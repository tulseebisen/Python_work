{
 "cells": [
  {
   "cell_type": "markdown",
   "metadata": {},
   "source": [
    "# MockTest_1"
   ]
  },
  {
   "cell_type": "code",
   "execution_count": null,
   "metadata": {},
   "outputs": [],
   "source": [
    "\"\"\"\n",
    "1. Write a python function to accept user inputs, store it in a list and compute the highest number\n",
    "out of it. User can enter as many numbers as he/she wants.\n",
    "Take care of following things:\n",
    "1. Input must be entered by user\n",
    "2. Exception handling\n",
    "3. Null values\n",
    "4. Errors\n",
    "5. Datatypes\n",
    "\n",
    "Output of the function must be a number.\n",
    "It should accept correct values and for incorrect values, an error message must be displayed to the user.\n",
    "\"\"\""
   ]
  },
  {
   "cell_type": "code",
   "execution_count": 6,
   "metadata": {},
   "outputs": [
    {
     "name": "stdout",
     "output_type": "stream",
     "text": [
      "Please give space between number \n",
      "Enter numbers 'g' 'n'\n",
      "Please enter a valid number.  Try again...\n"
     ]
    }
   ],
   "source": [
    "while True:\n",
    "    try:\n",
    "        print(\"Please give space between number \")\n",
    "        x = list(map(float, input(\"Enter numbers \").split()))\n",
    "         \n",
    "        if x:\n",
    "            print(\"List of entered numbers: \", x)\n",
    "            print(\"Largest element is:\", max(x))\n",
    "        else:\n",
    "            print('Empty input')\n",
    "        \n",
    "        break\n",
    "    except ValueError:\n",
    "        print(\"Please enter a valid number.  Try again...\")\n",
    "        break\n",
    "        \n"
   ]
  },
  {
   "cell_type": "markdown",
   "metadata": {},
   "source": [
    "### Different Outputs:"
   ]
  },
  {
   "cell_type": "code",
   "execution_count": null,
   "metadata": {},
   "outputs": [],
   "source": [
    "#output-1\n",
    "# If taking value more than max value of float \n",
    "\"\"\"\n",
    "Please give space between number \n",
    "Enter numbers 2.7976931348623157e+308 2 3\n",
    "List of entered numbers:  [inf, 2.0, 3.0]\n",
    "Largest element is: inf\n",
    "\"\"\""
   ]
  },
  {
   "cell_type": "code",
   "execution_count": null,
   "metadata": {},
   "outputs": [],
   "source": [
    "#output-2\n",
    "# If taking value in integers \n",
    "\"\"\"\n",
    "Please give space between number \n",
    "Enter numbers -7 44 81 11 9998 0 3\n",
    "List of entered numbers:  [-7.0, 44.0, 81.0, 11.0, 9998.0, 0.0, 3.0]\n",
    "Largest element is: 9998.0  \n",
    "\"\"\""
   ]
  },
  {
   "cell_type": "code",
   "execution_count": null,
   "metadata": {},
   "outputs": [],
   "source": [
    "#output-3\n",
    "# for Null value/ no value entered\n",
    "\"\"\"\n",
    "Please give space between number \n",
    "Enter numbers \n",
    "Empty input\n",
    "\"\"\""
   ]
  },
  {
   "cell_type": "code",
   "execution_count": null,
   "metadata": {},
   "outputs": [],
   "source": [
    "#output-4\n",
    "# If user entered special characters\n",
    "\n",
    "\"\"\"\n",
    "Please give space between number \n",
    "Enter numbers 45 22 134 -8 $\n",
    "Please enter a valid number.  Try again...\n",
    "\"\"\""
   ]
  },
  {
   "cell_type": "code",
   "execution_count": null,
   "metadata": {},
   "outputs": [],
   "source": [
    "#output-5\n",
    "# If entered values are in the combination of number and alphabet\n",
    "\n",
    "\"\"\"\n",
    "Please give space between number \n",
    "Enter numbers 5 6 7 4f \n",
    "Please enter a valid number.  Try again...\n",
    "\"\"\""
   ]
  },
  {
   "cell_type": "code",
   "execution_count": null,
   "metadata": {},
   "outputs": [],
   "source": [
    "#output-6\n",
    "# If entered values are alphabets\n",
    "\n",
    "\"\"\"\n",
    "Please give space between number \n",
    "Enter numbers d f j uu taff\n",
    "Please enter a valid number.  Try again...\n",
    "\"\"\""
   ]
  },
  {
   "cell_type": "code",
   "execution_count": null,
   "metadata": {},
   "outputs": [],
   "source": [
    "#output-7\n",
    "# If entered value are strings\n",
    "\n",
    "\"\"\"\n",
    "Please give space between number \n",
    "Enter numbers 'g' 'n'\n",
    "Please enter a valid number.  Try again...\n",
    "\"\"\""
   ]
  }
 ],
 "metadata": {
  "kernelspec": {
   "display_name": "Python 3",
   "language": "python",
   "name": "python3"
  },
  "language_info": {
   "codemirror_mode": {
    "name": "ipython",
    "version": 3
   },
   "file_extension": ".py",
   "mimetype": "text/x-python",
   "name": "python",
   "nbconvert_exporter": "python",
   "pygments_lexer": "ipython3",
   "version": "3.8.5"
  }
 },
 "nbformat": 4,
 "nbformat_minor": 4
}
