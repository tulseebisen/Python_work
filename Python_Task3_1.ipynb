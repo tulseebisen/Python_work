{
 "cells": [
  {
   "cell_type": "markdown",
   "metadata": {},
   "source": [
    "# Task-3.1"
   ]
  },
  {
   "cell_type": "markdown",
   "metadata": {},
   "source": [
    "## 1)remove() Method\n",
    "The remove() method removes the first occurrence of the element with the specified value."
   ]
  },
  {
   "cell_type": "code",
   "execution_count": 4,
   "metadata": {},
   "outputs": [
    {
     "name": "stdout",
     "output_type": "stream",
     "text": [
      "New fruit list is\n",
      "['apple', 'cherry']\n"
     ]
    }
   ],
   "source": [
    "fruits = ['apple', 'banana', 'cherry']\n",
    "\n",
    "fruits.remove(\"banana\")\n",
    "print(\"New fruit list is\" )\n",
    "print(fruits)\n"
   ]
  },
  {
   "cell_type": "markdown",
   "metadata": {},
   "source": [
    "## 2)count() Method\n",
    "count() method returns the number of elements with the specified value."
   ]
  },
  {
   "cell_type": "code",
   "execution_count": 6,
   "metadata": {},
   "outputs": [
    {
     "name": "stdout",
     "output_type": "stream",
     "text": [
      "2\n"
     ]
    }
   ],
   "source": [
    "#Return the number of times the value 9 appears int the list:\n",
    "\n",
    "points = [1, 4, 2, 9, 7, 8, 9, 3, 1]\n",
    "\n",
    "x = points.count(9)\n",
    "print(x)"
   ]
  },
  {
   "cell_type": "markdown",
   "metadata": {},
   "source": [
    "## 3)clear() Method\n",
    "The clear() method removes all the elements from a list."
   ]
  },
  {
   "cell_type": "code",
   "execution_count": 8,
   "metadata": {},
   "outputs": [
    {
     "name": "stdout",
     "output_type": "stream",
     "text": [
      "List: [{1, 2}, 'a', ['1.1', '2.2']]\n",
      "List: []\n"
     ]
    }
   ],
   "source": [
    "list = [{1, 2}, ('a'), ['1.1', '2.2']]\n",
    "\n",
    "print('List:', list)\n",
    "\n",
    "# clearing the list\n",
    "list.clear()\n",
    "\n",
    "print('List:', list)"
   ]
  },
  {
   "cell_type": "markdown",
   "metadata": {},
   "source": [
    "## 4)sort() Method\n",
    "The sort() method sorts the list ascending by default."
   ]
  },
  {
   "cell_type": "code",
   "execution_count": 9,
   "metadata": {},
   "outputs": [
    {
     "name": "stdout",
     "output_type": "stream",
     "text": [
      "['A', 'B', 'F', 'V']\n"
     ]
    }
   ],
   "source": [
    "#example-1\n",
    "\n",
    "Alphabets = ['F', 'B', 'V','A']\n",
    "\n",
    "Alphabets.sort()\n",
    "print(Alphabets)"
   ]
  },
  {
   "cell_type": "code",
   "execution_count": 10,
   "metadata": {},
   "outputs": [
    {
     "name": "stdout",
     "output_type": "stream",
     "text": [
      "['V', 'F', 'B', 'A']\n"
     ]
    }
   ],
   "source": [
    "#example-2\n",
    "# we can also make a function to decide the sorting criteria(s).\n",
    "\n",
    "\n",
    "#example-2\n",
    "\n",
    "Alphabets = ['F', 'B', 'V','A']\n",
    "\n",
    "Alphabets.sort(reverse=True)\n",
    "print(Alphabets)"
   ]
  },
  {
   "cell_type": "markdown",
   "metadata": {},
   "source": [
    "## 5)reverse() method\n",
    "The reverse() method reverses the elements of the list."
   ]
  },
  {
   "cell_type": "code",
   "execution_count": 16,
   "metadata": {},
   "outputs": [
    {
     "name": "stdout",
     "output_type": "stream",
     "text": [
      "Original List: ['blue', 'pink', 'orange']\n",
      "Updated List: ['orange', 'pink', 'blue']\n"
     ]
    }
   ],
   "source": [
    "colors = ['blue', 'pink', 'orange']\n",
    "print('Original List:', colors)\n",
    "\n",
    "# List Reverse\n",
    "colors.reverse()\n",
    "\n",
    "# updated list\n",
    "print('Updated List:', colors)"
   ]
  },
  {
   "cell_type": "code",
   "execution_count": null,
   "metadata": {},
   "outputs": [],
   "source": []
  }
 ],
 "metadata": {
  "kernelspec": {
   "display_name": "Python 3",
   "language": "python",
   "name": "python3"
  },
  "language_info": {
   "codemirror_mode": {
    "name": "ipython",
    "version": 3
   },
   "file_extension": ".py",
   "mimetype": "text/x-python",
   "name": "python",
   "nbconvert_exporter": "python",
   "pygments_lexer": "ipython3",
   "version": "3.8.5"
  }
 },
 "nbformat": 4,
 "nbformat_minor": 4
}
