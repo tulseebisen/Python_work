{
 "cells": [
  {
   "cell_type": "markdown",
   "metadata": {},
   "source": [
    "## Task9\n",
    "\n",
    "### -->Ask 2 numbers from users and store it in num1 and num2\n",
    "### -->Ask user to press 1 for addition,2 for subtraction,3 for multiplication and 4 for division\n",
    "### -->based on number given by user do the math operation\n"
   ]
  },
  {
   "cell_type": "code",
   "execution_count": 8,
   "metadata": {},
   "outputs": [
    {
     "name": "stdout",
     "output_type": "stream",
     "text": [
      "Enter your 1st number: 50\n",
      "Enter your 2nd number: 10\n",
      "------------------------:\n",
      "entered 1st number is: 50\n",
      "entered 1st number is: 10\n",
      "press 1 for addition:\n",
      "press 2 for subtraction:\n",
      "press 3 for multiplication:\n",
      "press 4 for division:\n",
      "plz select a number which operation would you like to perform\n",
      "4\n",
      "division of both numbers is 5.0\n"
     ]
    }
   ],
   "source": [
    "num1 = int(input(\"Enter your 1st number: \") )\n",
    "num2 = int(input(\"Enter your 2nd number: \") )\n",
    "print(\"------------------------:\")\n",
    "print(\"entered 1st number is:\" ,num1)\n",
    "print(\"entered 1st number is:\" ,num2)\n",
    "\n",
    "print(\"press 1 for addition:\")\n",
    "print(\"press 2 for subtraction:\")\n",
    "print(\"press 3 for multiplication:\")\n",
    "print(\"press 4 for division:\")\n",
    "pressed_val = int(input(\"plz select a number which operation would you like to perform\\n\") )\n",
    "\n",
    "if(pressed_val == 1):\n",
    "    result=num1+num2\n",
    "    print(\"Adiition of both numbers is\", result)\n",
    "elif(pressed_val == 2):\n",
    "    result=num1-num2\n",
    "    print(\"subtraction of both numbers is\", result)\n",
    "elif(pressed_val == 3):\n",
    "    result=num1*num2\n",
    "    print(\"multiplication of both numbers is\", result)   \n",
    "elif(pressed_val == 4):\n",
    "    result=int(num1)/int(num2)\n",
    "    print(\"division of both numbers is\", result)\n",
    "else:\n",
    "     print(\"something went wrong\")    \n",
    "    \n",
    "    "
   ]
  },
  {
   "cell_type": "code",
   "execution_count": null,
   "metadata": {},
   "outputs": [],
   "source": [
    "\"\"\"\n",
    "Enter your 1st number: 35\n",
    "Enter your 2nd number: 2\n",
    "------------------------:\n",
    "entered 1st number is: 35\n",
    "entered 1st number is: 2\n",
    "press 1 for addition:\n",
    "press 2 for subtraction:\n",
    "press 3 for multiplication:\n",
    "press 4 for division:\n",
    "plz select a number which operation would you like to perform\n",
    "1\n",
    "Adiition of both numbers is 37\n",
    "\"\"\""
   ]
  },
  {
   "cell_type": "code",
   "execution_count": null,
   "metadata": {},
   "outputs": [],
   "source": [
    "\"\"\"\n",
    "Enter your 1st number: 83\n",
    "Enter your 2nd number: 3\n",
    "------------------------:\n",
    "entered 1st number is: 83\n",
    "entered 1st number is: 3\n",
    "press 1 for addition:\n",
    "press 2 for subtraction:\n",
    "press 3 for multiplication:\n",
    "press 4 for division:\n",
    "plz select a number which operation would you like to perform\n",
    "2\n",
    "subtraction of both numbers is 80\n",
    "\"\"\""
   ]
  },
  {
   "cell_type": "code",
   "execution_count": null,
   "metadata": {},
   "outputs": [],
   "source": [
    "\"\"\"\n",
    "Enter your 1st number: 50\n",
    "Enter your 2nd number: 10\n",
    "------------------------:\n",
    "entered 1st number is: 50\n",
    "entered 1st number is: 10\n",
    "press 1 for addition:\n",
    "press 2 for subtraction:\n",
    "press 3 for multiplication:\n",
    "press 4 for division:\n",
    "plz select a number which operation would you like to perform\n",
    "3\n",
    "multiplication of both numbers is 500\n",
    "\"\"\""
   ]
  },
  {
   "cell_type": "code",
   "execution_count": null,
   "metadata": {},
   "outputs": [],
   "source": []
  },
  {
   "cell_type": "code",
   "execution_count": null,
   "metadata": {},
   "outputs": [],
   "source": []
  },
  {
   "cell_type": "code",
   "execution_count": null,
   "metadata": {},
   "outputs": [],
   "source": [
    "# sir when In am running this code again ,this output will gone.\n",
    "#Is there any method to run again the code but without clearing the output\n",
    "#I want to keep output for different operations also"
   ]
  },
  {
   "cell_type": "code",
   "execution_count": null,
   "metadata": {},
   "outputs": [],
   "source": []
  }
 ],
 "metadata": {
  "kernelspec": {
   "display_name": "Python 3",
   "language": "python",
   "name": "python3"
  },
  "language_info": {
   "codemirror_mode": {
    "name": "ipython",
    "version": 3
   },
   "file_extension": ".py",
   "mimetype": "text/x-python",
   "name": "python",
   "nbconvert_exporter": "python",
   "pygments_lexer": "ipython3",
   "version": "3.8.5"
  }
 },
 "nbformat": 4,
 "nbformat_minor": 4
}
