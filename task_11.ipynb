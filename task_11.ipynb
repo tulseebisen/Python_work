{
 "cells": [
  {
   "cell_type": "markdown",
   "metadata": {},
   "source": [
    "# Task 11.1\n"
   ]
  },
  {
   "cell_type": "markdown",
   "metadata": {},
   "source": [
    "### Explain Return keyword with example,"
   ]
  },
  {
   "cell_type": "code",
   "execution_count": null,
   "metadata": {},
   "outputs": [],
   "source": [
    "#A return statement is used to end the execution of the function call and “returns” the result  to the caller\n",
    "#The statements after the return statements are not executed. \n",
    "#If the return statement is without any expression, then the special value None is returned.\n",
    "\n",
    "#Return statement can not be used outside the function.\n",
    "#def fun():\n",
    "    statements\n",
    "    .\n",
    "    .\n",
    "    return [expression]"
   ]
  },
  {
   "cell_type": "code",
   "execution_count": 2,
   "metadata": {},
   "outputs": [],
   "source": [
    "def mult(a,b):\n",
    "    return a*b\n"
   ]
  },
  {
   "cell_type": "code",
   "execution_count": 3,
   "metadata": {},
   "outputs": [
    {
     "data": {
      "text/plain": [
       "16"
      ]
     },
     "execution_count": 3,
     "metadata": {},
     "output_type": "execute_result"
    }
   ],
   "source": [
    "mult(2,8)"
   ]
  },
  {
   "cell_type": "code",
   "execution_count": 10,
   "metadata": {},
   "outputs": [],
   "source": [
    "def fun():  \n",
    "    str = \"datascience\"\n",
    "    \n",
    "    return str, len(str); "
   ]
  },
  {
   "cell_type": "code",
   "execution_count": 11,
   "metadata": {},
   "outputs": [
    {
     "data": {
      "text/plain": [
       "('datascience', 11)"
      ]
     },
     "execution_count": 11,
     "metadata": {},
     "output_type": "execute_result"
    }
   ],
   "source": [
    "fun()"
   ]
  },
  {
   "cell_type": "code",
   "execution_count": null,
   "metadata": {},
   "outputs": [],
   "source": []
  },
  {
   "cell_type": "markdown",
   "metadata": {},
   "source": [
    "# Task 11.2"
   ]
  },
  {
   "cell_type": "markdown",
   "metadata": {},
   "source": [
    "### 1)Ask 2 numbers from users and store it in num1 and num2\n",
    "### 2) user to press 1 for addition,2 for subtraction,3 for multiplication and 4 for division\n",
    "### 3)create 4 seperate functions for each operation (i.e. addition,subtraction,multiplication and division)\n",
    "### 4)based on number given by user,call that perticular function and print the output"
   ]
  },
  {
   "cell_type": "code",
   "execution_count": 18,
   "metadata": {},
   "outputs": [
    {
     "name": "stdout",
     "output_type": "stream",
     "text": [
      "Enter your 1st number: 7\n",
      "Enter your 2nd number: 40\n",
      "------------------------:\n",
      "entered 1st number is: 7\n",
      "entered 1st number is: 40\n",
      "press 1 for addition:\n",
      "press 2 for subtraction:\n",
      "press 3 for multiplication:\n",
      "press 4 for division:\n",
      "plz select a number which operation would you like to perform\n",
      "2\n",
      "subtraction of both numbers is -33\n"
     ]
    }
   ],
   "source": [
    "num1 = int(input(\"Enter your 1st number: \") )\n",
    "num2 = int(input(\"Enter your 2nd number: \") )\n",
    "print(\"------------------------:\")\n",
    "print(\"entered 1st number is:\" ,num1)\n",
    "print(\"entered 1st number is:\" ,num2)\n",
    "\n",
    "print(\"press 1 for addition:\")\n",
    "print(\"press 2 for subtraction:\")\n",
    "print(\"press 3 for multiplication:\")\n",
    "print(\"press 4 for division:\")\n",
    "pressed_val = int(input(\"plz select a number which operation would you like to perform\\n\") )\n",
    "\n",
    "def add(num1,num2):\n",
    "    result=num1+num2\n",
    "    return result\n",
    "\n",
    "def sub(num1,num2):\n",
    "    result=num1-num2\n",
    "    return result\n",
    "\n",
    "def mult(num1,num2):\n",
    "    result=num1*num2\n",
    "    return result\n",
    "\n",
    "def div(num1,num2):\n",
    "    result=num1/num2\n",
    "    return result\n",
    "\n",
    "if(pressed_val == 1):\n",
    "    \n",
    "    print(\"Adiition of both numbers is\", add(num1,num2))\n",
    "elif(pressed_val == 2):\n",
    "    \n",
    "    print(\"subtraction of both numbers is\", sub(num1,num2))\n",
    "elif(pressed_val == 3):\n",
    "    \n",
    "    print(\"multiplication of both numbers is\", mult(num1,num2))   \n",
    "elif(pressed_val == 4):\n",
    "    \n",
    "    print(\"division of both numbers is\", div(num1,num2))\n",
    "else:\n",
    "     print(\"something went wrong\")    "
   ]
  },
  {
   "cell_type": "code",
   "execution_count": null,
   "metadata": {},
   "outputs": [],
   "source": []
  },
  {
   "cell_type": "code",
   "execution_count": null,
   "metadata": {},
   "outputs": [],
   "source": [
    "\"\"\"\n",
    "Enter your 1st number: 4\n",
    "Enter your 2nd number: 6\n",
    "------------------------:\n",
    "entered 1st number is: 4\n",
    "entered 1st number is: 6\n",
    "press 1 for addition:\n",
    "press 2 for subtraction:\n",
    "press 3 for multiplication:\n",
    "press 4 for division:\n",
    "plz select a number which operation would you like to perform\n",
    "3\n",
    "multiplication of both numbers is 24\n",
    "\"\"\""
   ]
  },
  {
   "cell_type": "code",
   "execution_count": null,
   "metadata": {},
   "outputs": [],
   "source": [
    "\"\"\"\n",
    "Enter your 1st number: 8\n",
    "Enter your 2nd number: 5\n",
    "------------------------:\n",
    "entered 1st number is: 8\n",
    "entered 1st number is: 5\n",
    "press 1 for addition:\n",
    "press 2 for subtraction:\n",
    "press 3 for multiplication:\n",
    "press 4 for division:\n",
    "plz select a number which operation would you like to perform\n",
    "4\n",
    "division of both numbers is 1.6\n",
    "\"\"\""
   ]
  },
  {
   "cell_type": "code",
   "execution_count": null,
   "metadata": {},
   "outputs": [],
   "source": [
    "\"\"\"\n",
    "Enter your 1st number: 11\n",
    "Enter your 2nd number: 69\n",
    "------------------------:\n",
    "entered 1st number is: 11\n",
    "entered 1st number is: 69\n",
    "press 1 for addition:\n",
    "press 2 for subtraction:\n",
    "press 3 for multiplication:\n",
    "press 4 for division:\n",
    "plz select a number which operation would you like to perform\n",
    "1\n",
    "Adiition of both numbers is 80\n",
    "\"\"\""
   ]
  },
  {
   "cell_type": "code",
   "execution_count": null,
   "metadata": {},
   "outputs": [],
   "source": [
    "\"\"\"\n",
    "Enter your 1st number: 66\n",
    "Enter your 2nd number: 6\n",
    "------------------------:\n",
    "entered 1st number is: 66\n",
    "entered 1st number is: 6\n",
    "press 1 for addition:\n",
    "press 2 for subtraction:\n",
    "press 3 for multiplication:\n",
    "press 4 for division:\n",
    "plz select a number which operation would you like to perform\n",
    "2\n",
    "subtraction of both numbers is 60\n",
    "\"\"\""
   ]
  }
 ],
 "metadata": {
  "kernelspec": {
   "display_name": "Python 3",
   "language": "python",
   "name": "python3"
  },
  "language_info": {
   "codemirror_mode": {
    "name": "ipython",
    "version": 3
   },
   "file_extension": ".py",
   "mimetype": "text/x-python",
   "name": "python",
   "nbconvert_exporter": "python",
   "pygments_lexer": "ipython3",
   "version": "3.8.5"
  }
 },
 "nbformat": 4,
 "nbformat_minor": 4
}
